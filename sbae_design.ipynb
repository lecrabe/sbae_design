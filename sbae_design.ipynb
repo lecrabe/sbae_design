{
 "cells": [
  {
   "cell_type": "markdown",
   "id": "9f1f9d9a-8a0d-4d85-b134-f0bda3727152",
   "metadata": {},
   "source": [
    "### 1 - Import libs"
   ]
  },
  {
   "cell_type": "code",
   "execution_count": 19,
   "id": "a75e78de-8687-4632-8586-9ca964b31045",
   "metadata": {},
   "outputs": [],
   "source": [
    "import time \n",
    "from pathlib import Path\n",
    "from datetime import datetime as dt\n",
    "\n",
    "import ee\n",
    "import geemap\n",
    "\n",
    "# initialize EE    \n",
    "try:\n",
    "    ee.Initialize(opt_url='https://earthengine-highvolume.googleapis.com')\n",
    "except:\n",
    "    ee.Authenticate()\n",
    "    ee.Initialize(opt_url='https://earthengine-highvolume.googleapis.com')\n",
    "\n",
    "import helpers as h\n",
    "import geopandas as gpd"
   ]
  },
  {
   "cell_type": "markdown",
   "id": "23c04e79-5bfe-48d9-8412-c17707d7c5e9",
   "metadata": {},
   "source": [
    "### 2 - Basic Input Variables"
   ]
  },
  {
   "cell_type": "code",
   "execution_count": 20,
   "id": "8cc66ee9-1ed4-4f96-b776-8cd14d2d2a9c",
   "metadata": {},
   "outputs": [],
   "source": [
    "# Area of Interest\n",
    "country = 'Kenya'   # country case\n",
    "aoi = ee.FeatureCollection(\"FAO/GAUL/2015/level1\").filter(ee.Filter.eq('ADM0_NAME', country)) # here any feature collection can be selected\n",
    "\n",
    "# Grid Size (in degrees)\n",
    "grid_size = 0.5"
   ]
  },
  {
   "cell_type": "markdown",
   "id": "38426a5b-6394-4542-92e5-fe647ac0d69a",
   "metadata": {},
   "source": [
    "### 3 - Generate GRID and POINTS"
   ]
  },
  {
   "cell_type": "code",
   "execution_count": 21,
   "id": "6c6be7b2-33d0-4fd3-b856-e9d79d2cc75f",
   "metadata": {
    "tags": []
   },
   "outputs": [],
   "source": [
    "# Generate the grid\n",
    "grid = h.generate_grid(aoi, grid_size, grid_size, 0, 0).filterBounds(aoi)\n",
    "\n",
    "# get a random point over each grid cell\n",
    "randomInCell = grid.map(h.getRandomPoint)\n",
    "\n",
    "# get the centroid of each gridcell\n",
    "centerInCell = grid.map(h.getCenterPoint)\n",
    "\n",
    "# stratified sampling based on ESA LC\n",
    "imageCollection = ee.ImageCollection(\"ESA/WorldCover/v100\")\n",
    "esaLc = imageCollection.filterBounds(aoi).first().clip(aoi)\n",
    "\n",
    "stratifiedSamples = esaLc.stratifiedSample(**{\n",
    "    \"numPoints\": 5,\n",
    "    \"region\": aoi,\n",
    "    \"scale\": 100, \n",
    "    \"seed\": 42, \n",
    "    \"tileScale\": 4, \n",
    "    \"geometries\": True\n",
    "}).map(h.setId)"
   ]
  },
  {
   "cell_type": "markdown",
   "id": "688c2ded-544e-43fe-ad12-6f01be75ccad",
   "metadata": {},
   "source": [
    "### 4 - Display in map"
   ]
  },
  {
   "cell_type": "code",
   "execution_count": 22,
   "id": "3ba8c094-dc7c-4020-967f-b12031403966",
   "metadata": {
    "tags": []
   },
   "outputs": [
    {
     "data": {
      "application/vnd.jupyter.widget-view+json": {
       "model_id": "388097669f8444c0b531a14173021b38",
       "version_major": 2,
       "version_minor": 0
      },
      "text/plain": [
       "Map(center=[0.5336326464912589, 37.86026492779472], controls=(WidgetControl(options=['position'], widget=HBox(…"
      ]
     },
     "metadata": {},
     "output_type": "display_data"
    }
   ],
   "source": [
    "Map = geemap.Map()\n",
    "Map.add_basemap('HYBRID')\n",
    "Map.centerObject(aoi,6)\n",
    "\n",
    "Map.addLayer(aoi)\n",
    "Map.addLayer(grid)\n",
    "Map.addLayer(centerInCell, {}, '1 Center Sample per gridcell (Systematic)')\n",
    "\n",
    "#Map.addLayer(randomInCell, {}, '1 Random Sample per gridcell (Systematic random)')\n",
    "#Map.addLayer(esaLc, null, 'ESA Worldcover')\n",
    "#Map.addLayer(stratifiedSamples, {}, 'Stratified Samples per class from ESA LC')\n",
    "\n",
    "Map"
   ]
  },
  {
   "cell_type": "markdown",
   "id": "bfe76c73-bd41-4f0c-8ae5-153a7d020912",
   "metadata": {},
   "source": [
    "### 5 - Add auxillary data from global datasets"
   ]
  },
  {
   "cell_type": "code",
   "execution_count": 23,
   "id": "ec56c926-b7ea-45e1-a05b-58b333fde846",
   "metadata": {
    "tags": []
   },
   "outputs": [],
   "source": [
    "## Global Forest Change (Hansen et al., 2013)\n",
    "gfc_col = ee.Image('UMD/hansen/global_forest_change_2020_v1_8').select(['treecover2000','loss','lossyear','gain'],['gfc_tc00','gfc_loss','gfc_year','gfc_gain'])\n",
    "\n",
    "## ESA WorldCover 2020\n",
    "esa_20  = ee.Image('ESA/WorldCover/v100/2020').rename('esa_lc20')\n",
    "\n",
    "## Tropical Moist Forest - JRC 2021\n",
    "tmf_annual= ee.ImageCollection('projects/JRC/TMF/v1_2020/AnnualChanges').mosaic()\n",
    "tmf_annual_n = tmf_annual.rename(tmf_annual.bandNames().map(h.rename_TMF))\n",
    "\n",
    "tmf_subtp = ee.ImageCollection('projects/JRC/TMF/v1_2020/TransitionMap_Subtypes').mosaic().rename('tmf_subtypes')\n",
    "tmf_main  = ee.ImageCollection('projects/JRC/TMF/v1_2020/TransitionMap_MainClasses').mosaic().rename('tmf_main_cl')\n",
    "tmf_deg   = ee.ImageCollection('projects/JRC/TMF/v1_2020/DegradationYear').mosaic().rename('tmf_deg_yr')\n",
    "tmf_def   = ee.ImageCollection('projects/JRC/TMF/v1_2020/DeforestationYear').mosaic().rename('tmf_def_yr')\n",
    "\n",
    "##  COMBINE COLLECTIONS\n",
    "glo_ds = esa_20.addBands(gfc_col).addBands(tmf_subtp).addBands(tmf_main).addBands(tmf_deg).addBands(tmf_def).addBands(tmf_annual_n)\n",
    "\n",
    "## EXTRACT THE DATA TO THE POINTS\n",
    "columns = [\n",
    "    'point_id','esa_lc20','gfc_tc00','gfc_loss','gfc_year','gfc_gain', 'tmf_main_cl','tmf_subtypes','tmf_1990','tmf_1995',\n",
    "    'tmf_2000','tmf_2005','tmf_2010','tmf_2015','tmf_2020','tmf_def_yr','tmf_deg_yr',\n",
    "]\n",
    "centerPtsAux = glo_ds.reduceRegions(**{\n",
    "  \"reducer\": ee.Reducer.first(),\n",
    "  \"collection\": centerInCell\n",
    "}).select([*columns, '.geo']);"
   ]
  },
  {
   "cell_type": "markdown",
   "id": "ab510185-aa9d-4d0f-a4a7-348672921f2f",
   "metadata": {},
   "source": [
    "### 6 EXPORT AS TABLE"
   ]
  },
  {
   "cell_type": "code",
   "execution_count": 25,
   "id": "1a107f2e-cf6f-4675-a5e0-fd4340ffd13f",
   "metadata": {},
   "outputs": [
    {
     "data": {
      "text/html": [
       "<div>\n",
       "<style scoped>\n",
       "    .dataframe tbody tr th:only-of-type {\n",
       "        vertical-align: middle;\n",
       "    }\n",
       "\n",
       "    .dataframe tbody tr th {\n",
       "        vertical-align: top;\n",
       "    }\n",
       "\n",
       "    .dataframe thead th {\n",
       "        text-align: right;\n",
       "    }\n",
       "</style>\n",
       "<table border=\"1\" class=\"dataframe\">\n",
       "  <thead>\n",
       "    <tr style=\"text-align: right;\">\n",
       "      <th></th>\n",
       "      <th>LAT</th>\n",
       "      <th>LON</th>\n",
       "      <th>point_id</th>\n",
       "      <th>esa_lc20</th>\n",
       "      <th>gfc_tc00</th>\n",
       "      <th>gfc_loss</th>\n",
       "      <th>gfc_year</th>\n",
       "      <th>gfc_gain</th>\n",
       "      <th>tmf_main_cl</th>\n",
       "      <th>tmf_subtypes</th>\n",
       "      <th>tmf_1990</th>\n",
       "      <th>tmf_1995</th>\n",
       "      <th>tmf_2000</th>\n",
       "      <th>tmf_2005</th>\n",
       "      <th>tmf_2010</th>\n",
       "      <th>tmf_2015</th>\n",
       "      <th>tmf_2020</th>\n",
       "      <th>tmf_def_yr</th>\n",
       "      <th>tmf_deg_yr</th>\n",
       "    </tr>\n",
       "  </thead>\n",
       "  <tbody>\n",
       "    <tr>\n",
       "      <th>26</th>\n",
       "      <td>0.525893</td>\n",
       "      <td>35.160179</td>\n",
       "      <td>100</td>\n",
       "      <td>40</td>\n",
       "      <td>0</td>\n",
       "      <td>0</td>\n",
       "      <td>NaN</td>\n",
       "      <td>0</td>\n",
       "      <td>70</td>\n",
       "      <td>91</td>\n",
       "      <td>6</td>\n",
       "      <td>6</td>\n",
       "      <td>6</td>\n",
       "      <td>6</td>\n",
       "      <td>6</td>\n",
       "      <td>6</td>\n",
       "      <td>6</td>\n",
       "      <td>0</td>\n",
       "      <td>0</td>\n",
       "    </tr>\n",
       "    <tr>\n",
       "      <th>27</th>\n",
       "      <td>1.025892</td>\n",
       "      <td>35.160179</td>\n",
       "      <td>101</td>\n",
       "      <td>10</td>\n",
       "      <td>20</td>\n",
       "      <td>0</td>\n",
       "      <td>NaN</td>\n",
       "      <td>0</td>\n",
       "      <td>70</td>\n",
       "      <td>91</td>\n",
       "      <td>6</td>\n",
       "      <td>6</td>\n",
       "      <td>6</td>\n",
       "      <td>6</td>\n",
       "      <td>6</td>\n",
       "      <td>6</td>\n",
       "      <td>6</td>\n",
       "      <td>0</td>\n",
       "      <td>0</td>\n",
       "    </tr>\n",
       "    <tr>\n",
       "      <th>28</th>\n",
       "      <td>1.525890</td>\n",
       "      <td>35.160179</td>\n",
       "      <td>102</td>\n",
       "      <td>20</td>\n",
       "      <td>1</td>\n",
       "      <td>0</td>\n",
       "      <td>NaN</td>\n",
       "      <td>0</td>\n",
       "      <td>70</td>\n",
       "      <td>91</td>\n",
       "      <td>6</td>\n",
       "      <td>6</td>\n",
       "      <td>6</td>\n",
       "      <td>6</td>\n",
       "      <td>6</td>\n",
       "      <td>6</td>\n",
       "      <td>6</td>\n",
       "      <td>0</td>\n",
       "      <td>0</td>\n",
       "    </tr>\n",
       "    <tr>\n",
       "      <th>29</th>\n",
       "      <td>2.025888</td>\n",
       "      <td>35.160179</td>\n",
       "      <td>103</td>\n",
       "      <td>20</td>\n",
       "      <td>0</td>\n",
       "      <td>0</td>\n",
       "      <td>NaN</td>\n",
       "      <td>0</td>\n",
       "      <td>70</td>\n",
       "      <td>91</td>\n",
       "      <td>6</td>\n",
       "      <td>6</td>\n",
       "      <td>6</td>\n",
       "      <td>6</td>\n",
       "      <td>6</td>\n",
       "      <td>6</td>\n",
       "      <td>6</td>\n",
       "      <td>0</td>\n",
       "      <td>0</td>\n",
       "    </tr>\n",
       "    <tr>\n",
       "      <th>30</th>\n",
       "      <td>2.525887</td>\n",
       "      <td>35.160179</td>\n",
       "      <td>104</td>\n",
       "      <td>20</td>\n",
       "      <td>4</td>\n",
       "      <td>0</td>\n",
       "      <td>NaN</td>\n",
       "      <td>0</td>\n",
       "      <td>70</td>\n",
       "      <td>91</td>\n",
       "      <td>6</td>\n",
       "      <td>6</td>\n",
       "      <td>6</td>\n",
       "      <td>6</td>\n",
       "      <td>6</td>\n",
       "      <td>6</td>\n",
       "      <td>6</td>\n",
       "      <td>0</td>\n",
       "      <td>0</td>\n",
       "    </tr>\n",
       "  </tbody>\n",
       "</table>\n",
       "</div>"
      ],
      "text/plain": [
       "         LAT        LON point_id  esa_lc20  gfc_tc00  gfc_loss  gfc_year  \\\n",
       "26  0.525893  35.160179      100        40         0         0       NaN   \n",
       "27  1.025892  35.160179      101        10        20         0       NaN   \n",
       "28  1.525890  35.160179      102        20         1         0       NaN   \n",
       "29  2.025888  35.160179      103        20         0         0       NaN   \n",
       "30  2.525887  35.160179      104        20         4         0       NaN   \n",
       "\n",
       "    gfc_gain  tmf_main_cl  tmf_subtypes  tmf_1990  tmf_1995  tmf_2000  \\\n",
       "26         0           70            91         6         6         6   \n",
       "27         0           70            91         6         6         6   \n",
       "28         0           70            91         6         6         6   \n",
       "29         0           70            91         6         6         6   \n",
       "30         0           70            91         6         6         6   \n",
       "\n",
       "    tmf_2005  tmf_2010  tmf_2015  tmf_2020  tmf_def_yr  tmf_deg_yr  \n",
       "26         6         6         6         6           0           0  \n",
       "27         6         6         6         6           0           0  \n",
       "28         6         6         6         6           0           0  \n",
       "29         6         6         6         6           0           0  \n",
       "30         6         6         6         6           0           0  "
      ]
     },
     "execution_count": 25,
     "metadata": {},
     "output_type": "execute_result"
    }
   ],
   "source": [
    "## MAKE AS A GEODATAFRAME AND EXPORT\n",
    "json = centerPtsAux.getInfo()\n",
    "df = gpd.GeoDataFrame.from_features(json)\n",
    "df = df.join(df[\"geometry\"].apply(lambda p: list(p.coords)).explode().apply(pd.Series).rename(columns=({0:\"LON\", 1:\"LAT\"})))\n",
    "df = df[['LAT', 'LON', *columns]]\n",
    "df = df.sort_values(\"point_id\", axis=0, ascending=False)\n",
    "df.head()"
   ]
  },
  {
   "cell_type": "code",
   "execution_count": 26,
   "id": "cd0f3770-3a75-43ef-80b6-bf7ea34f0109",
   "metadata": {},
   "outputs": [],
   "source": [
    "## Export\n",
    "\n",
    "folder = Path.home()/\"downloads\"/country.lower()/\"data\"\n",
    "folder.mkdir(exist_ok=True, parents=True)\n",
    "df.to_csv(folder/\"points.csv\", index=False)\n"
   ]
  },
  {
   "cell_type": "code",
   "execution_count": null,
   "id": "9517e1f2-1577-4c1e-825c-fe1d0d605f96",
   "metadata": {},
   "outputs": [],
   "source": []
  }
 ],
 "metadata": {
  "kernelspec": {
   "display_name": "Python 3",
   "language": "python",
   "name": "python3"
  },
  "language_info": {
   "codemirror_mode": {
    "name": "ipython",
    "version": 3
   },
   "file_extension": ".py",
   "mimetype": "text/x-python",
   "name": "python",
   "nbconvert_exporter": "python",
   "pygments_lexer": "ipython3",
   "version": "3.8.10"
  }
 },
 "nbformat": 4,
 "nbformat_minor": 5
}
